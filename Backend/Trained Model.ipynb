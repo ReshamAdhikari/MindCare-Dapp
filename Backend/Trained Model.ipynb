{
 "cells": [
  {
   "cell_type": "code",
   "execution_count": null,
   "metadata": {
    "executionInfo": {
     "elapsed": 17,
     "status": "ok",
     "timestamp": 1742506002844,
     "user": {
      "displayName": "Resham Adhikari",
      "userId": "06128774821742323310"
     },
     "user_tz": 0
    },
    "id": "Ku9JnZZ_a-Q5"
   },
   "outputs": [],
   "source": [
    "#import libraries\n",
    "import joblib\n",
    "import pandas as pd\n",
    "import numpy as np\n",
    "from sklearn.model_selection import train_test_split\n",
    "from sklearn.preprocessing import LabelEncoder, StandardScaler\n",
    "from sklearn.ensemble import RandomForestClassifier\n",
    "from sklearn.linear_model import LogisticRegression\n",
    "from sklearn.neighbors import KNeighborsClassifier\n",
    "from sklearn.metrics import accuracy_score"
   ]
  },
  {
   "cell_type": "code",
   "execution_count": null,
   "metadata": {
    "executionInfo": {
     "elapsed": 4,
     "status": "ok",
     "timestamp": 1742506064279,
     "user": {
      "displayName": "Resham Adhikari",
      "userId": "06128774821742323310"
     },
     "user_tz": 0
    },
    "id": "QzuPdsK_c9aq"
   },
   "outputs": [],
   "source": [
    "# Load dataset\n",
    "file_path = '/content/survey.csv'  # Update this path if needed\n",
    "df = pd.read_csv(file_path)"
   ]
  },
  {
   "cell_type": "code",
   "execution_count": null,
   "metadata": {
    "executionInfo": {
     "elapsed": 13,
     "status": "ok",
     "timestamp": 1742506077279,
     "user": {
      "displayName": "Resham Adhikari",
      "userId": "06128774821742323310"
     },
     "user_tz": 0
    },
    "id": "OaYmnqWjdJ3D"
   },
   "outputs": [],
   "source": [
    "# Select relevant columns\n",
    "columns_to_keep = [\"Age\", \"Gender\", \"family_history\", \"work_interfere\", \"no_employees\",\n",
    "                    \"leave\", \"mental_health_consequence\", \"phys_health_consequence\",\n",
    "                    \"supervisor\", \"mental_vs_physical\", \"obs_consequence\", \"comments\", \"treatment\"]\n",
    "df = df[columns_to_keep]"
   ]
  },
  {
   "cell_type": "code",
   "execution_count": null,
   "metadata": {
    "executionInfo": {
     "elapsed": 12,
     "status": "ok",
     "timestamp": 1742506104106,
     "user": {
      "displayName": "Resham Adhikari",
      "userId": "06128774821742323310"
     },
     "user_tz": 0
    },
    "id": "ZdS9W2VldLTN"
   },
   "outputs": [],
   "source": [
    "# Clean gender column\n",
    "def clean_gender(gender):\n",
    "    gender = gender.lower()\n",
    "    if gender in ['male', 'm']: return 'Male'\n",
    "    elif gender in ['female', 'f']: return 'Female'\n",
    "    else: return 'Other'\n"
   ]
  },
  {
   "cell_type": "code",
   "execution_count": null,
   "metadata": {
    "executionInfo": {
     "elapsed": 8,
     "status": "ok",
     "timestamp": 1742506139343,
     "user": {
      "displayName": "Resham Adhikari",
      "userId": "06128774821742323310"
     },
     "user_tz": 0
    },
    "id": "Vmdin05QdWPF"
   },
   "outputs": [],
   "source": [
    "# Apply the function to clean gender column\n",
    "df['Gender'] = df['Gender'].astype(str).apply(clean_gender)\n",
    "\n",
    "# Fill missing values with \"Unknown\" where applicable\n",
    "df.fillna(\"Unknown\", inplace=True)\n",
    "\n",
    "# Remove rows with missing values in the target variable ('treatment')\n",
    "df = df.dropna(subset=['treatment'])"
   ]
  },
  {
   "cell_type": "code",
   "execution_count": null,
   "metadata": {
    "executionInfo": {
     "elapsed": 4,
     "status": "ok",
     "timestamp": 1742506156636,
     "user": {
      "displayName": "Resham Adhikari",
      "userId": "06128774821742323310"
     },
     "user_tz": 0
    },
    "id": "xc7bxzbedaYB"
   },
   "outputs": [],
   "source": [
    "# Encode categorical variables\n",
    "label_cols = [\"Gender\", \"family_history\", \"work_interfere\", \"no_employees\", \"leave\",\n",
    "              \"mental_health_consequence\", \"phys_health_consequence\", \"supervisor\",\n",
    "              \"mental_vs_physical\", \"obs_consequence\"]\n",
    "encoder = LabelEncoder()\n",
    "for col in label_cols:\n",
    "    df[col] = encoder.fit_transform(df[col])"
   ]
  },
  {
   "cell_type": "code",
   "execution_count": null,
   "metadata": {
    "executionInfo": {
     "elapsed": 3,
     "status": "ok",
     "timestamp": 1742506166150,
     "user": {
      "displayName": "Resham Adhikari",
      "userId": "06128774821742323310"
     },
     "user_tz": 0
    },
    "id": "LbZs7enNdeDq"
   },
   "outputs": [],
   "source": [
    "# Convert target variable \"treatment\" to binary\n",
    "df['treatment'] = df['treatment'].map({'Yes': 1, 'No': 0})"
   ]
  },
  {
   "cell_type": "code",
   "execution_count": null,
   "metadata": {
    "executionInfo": {
     "elapsed": 9,
     "status": "ok",
     "timestamp": 1742506173941,
     "user": {
      "displayName": "Resham Adhikari",
      "userId": "06128774821742323310"
     },
     "user_tz": 0
    },
    "id": "LGPqPbMudgZC"
   },
   "outputs": [],
   "source": [
    "# Feature and Target Split\n",
    "X = df.drop(columns=['treatment', 'comments'])\n",
    "y = df['treatment']"
   ]
  },
  {
   "cell_type": "code",
   "execution_count": null,
   "metadata": {
    "executionInfo": {
     "elapsed": 11,
     "status": "ok",
     "timestamp": 1742506185207,
     "user": {
      "displayName": "Resham Adhikari",
      "userId": "06128774821742323310"
     },
     "user_tz": 0
    },
    "id": "M6WdroDmdiTC"
   },
   "outputs": [],
   "source": [
    "# Standardizing numerical features\n",
    "scaler = StandardScaler()\n",
    "X_scaled = scaler.fit_transform(X)"
   ]
  },
  {
   "cell_type": "code",
   "execution_count": null,
   "metadata": {
    "executionInfo": {
     "elapsed": 28,
     "status": "ok",
     "timestamp": 1742506195261,
     "user": {
      "displayName": "Resham Adhikari",
      "userId": "06128774821742323310"
     },
     "user_tz": 0
    },
    "id": "ESTubZnYdlDH"
   },
   "outputs": [],
   "source": [
    "# Split data into training 80% and testing 20%\n",
    "X_train, X_test, y_train, y_test = train_test_split(X_scaled, y, test_size=0.2, random_state=42)"
   ]
  },
  {
   "cell_type": "code",
   "execution_count": null,
   "metadata": {
    "executionInfo": {
     "elapsed": 9,
     "status": "ok",
     "timestamp": 1742506253397,
     "user": {
      "displayName": "Resham Adhikari",
      "userId": "06128774821742323310"
     },
     "user_tz": 0
    },
    "id": "5CFhNVvwdnfr"
   },
   "outputs": [],
   "source": [
    "# Training models\n",
    "models = {\n",
    "    \"RandomForest\": RandomForestClassifier(n_estimators=100, random_state=42),\n",
    "    \"KNN\": KNeighborsClassifier(),\n",
    "    \"LogisticRegression\": LogisticRegression()\n",
    "}"
   ]
  },
  {
   "cell_type": "code",
   "execution_count": null,
   "metadata": {
    "executionInfo": {
     "elapsed": 4,
     "status": "ok",
     "timestamp": 1742506474465,
     "user": {
      "displayName": "Resham Adhikari",
      "userId": "06128774821742323310"
     },
     "user_tz": 0
    },
    "id": "7GZUUBi7d1rI"
   },
   "outputs": [],
   "source": [
    "best_model_name = None  # Store the best model's name\n",
    "best_accuracy = 0  # Store the highest accuracy found\n",
    "best_model = None  # Store the actual best model object"
   ]
  },
  {
   "cell_type": "code",
   "execution_count": null,
   "metadata": {
    "colab": {
     "base_uri": "https://localhost:8080/"
    },
    "executionInfo": {
     "elapsed": 262,
     "status": "ok",
     "timestamp": 1742506946339,
     "user": {
      "displayName": "Resham Adhikari",
      "userId": "06128774821742323310"
     },
     "user_tz": 0
    },
    "id": "pQRSF7_Bd6Iz",
    "outputId": "8ce0d82f-d2d2-4016-cc09-1737f3231aed"
   },
   "outputs": [
    {
     "name": "stdout",
     "output_type": "stream",
     "text": [
      "RandomForest Accuracy: 0.80\n",
      "KNN Accuracy: 0.69\n",
      "LogisticRegression Accuracy: 0.69\n"
     ]
    }
   ],
   "source": [
    "# Train and evaluate each model\n",
    "for name, model in models.items():\n",
    "    model.fit(X_train, y_train)  # Train the model\n",
    "    y_pred = model.predict(X_test)  # Make predictions\n",
    "    accuracy = accuracy_score(y_test, y_pred)  # Calculate accuracy score\n",
    "    print(f\"{name} Accuracy: {accuracy:.2f}\")  # Print accuracy for this model\n",
    "\n",
    "    # Check if this model is the best-performing one\n",
    "    if accuracy > best_accuracy:\n",
    "        best_accuracy = accuracy\n",
    "        best_model = model\n",
    "        best_model_name = name"
   ]
  },
  {
   "cell_type": "code",
   "execution_count": null,
   "metadata": {
    "colab": {
     "base_uri": "https://localhost:8080/"
    },
    "executionInfo": {
     "elapsed": 64,
     "status": "ok",
     "timestamp": 1742506923145,
     "user": {
      "displayName": "Resham Adhikari",
      "userId": "06128774821742323310"
     },
     "user_tz": 0
    },
    "id": "I2vRvFTUexu3",
    "outputId": "a71e9070-e9a2-48a1-ee85-3aa5ce1c97c2"
   },
   "outputs": [
    {
     "data": {
      "text/plain": [
       "['best_mental_health_model.joblib']"
      ]
     },
     "execution_count": 25,
     "metadata": {},
     "output_type": "execute_result"
    }
   ],
   "source": [
    "# Save only the best-performing model for future use\n",
    "joblib.dump(best_model, \"best_mental_health_model.joblib\")"
   ]
  },
  {
   "cell_type": "code",
   "execution_count": null,
   "metadata": {
    "colab": {
     "base_uri": "https://localhost:8080/"
    },
    "executionInfo": {
     "elapsed": 61,
     "status": "ok",
     "timestamp": 1742506934993,
     "user": {
      "displayName": "Resham Adhikari",
      "userId": "06128774821742323310"
     },
     "user_tz": 0
    },
    "id": "8cZoEaume8Q9",
    "outputId": "ad6a624b-6522-4e56-c092-195430712427"
   },
   "outputs": [
    {
     "data": {
      "text/plain": [
       "['mental_health_scaler.joblib']"
      ]
     },
     "execution_count": 28,
     "metadata": {},
     "output_type": "execute_result"
    }
   ],
   "source": [
    "# Save the scaler to preprocess new user input in the backend\n",
    "joblib.dump(scaler, \"mental_health_scaler.joblib\")\n"
   ]
  },
  {
   "cell_type": "code",
   "execution_count": null,
   "metadata": {
    "executionInfo": {
     "elapsed": 14,
     "status": "ok",
     "timestamp": 1742506933214,
     "user": {
      "displayName": "Resham Adhikari",
      "userId": "06128774821742323310"
     },
     "user_tz": 0
    },
    "id": "1_NEdzWfe-8S"
   },
   "outputs": [],
   "source": [
    "# Save best model information to a log file for reference\n",
    "with open(\"best_model_performance.txt\", \"w\") as f:\n",
    "    f.write(f\"Best Model: {best_model_name}\\nAccuracy: {best_accuracy:.2f}\\n\")"
   ]
  },
  {
   "cell_type": "code",
   "execution_count": null,
   "metadata": {
    "colab": {
     "base_uri": "https://localhost:8080/"
    },
    "executionInfo": {
     "elapsed": 19,
     "status": "ok",
     "timestamp": 1742506930461,
     "user": {
      "displayName": "Resham Adhikari",
      "userId": "06128774821742323310"
     },
     "user_tz": 0
    },
    "id": "4RAYMDCVfCVa",
    "outputId": "fb8722e4-83d7-481f-d275-8ddcbcfbbddd"
   },
   "outputs": [
    {
     "name": "stdout",
     "output_type": "stream",
     "text": [
      "✅ Best model (RandomForest) saved successfully with accuracy: 0.80\n"
     ]
    }
   ],
   "source": [
    "# Print final confirmation\n",
    "print(f\"✅ Best model ({best_model_name}) saved successfully with accuracy: {best_accuracy:.2f}\")"
   ]
  }
 ],
 "metadata": {
  "colab": {
   "authorship_tag": "ABX9TyNoi4X6Knhm06e8jy04RLmY",
   "provenance": []
  },
  "kernelspec": {
   "display_name": "Python 3",
   "name": "python3"
  },
  "language_info": {
   "name": "python"
  }
 },
 "nbformat": 4,
 "nbformat_minor": 0
}
