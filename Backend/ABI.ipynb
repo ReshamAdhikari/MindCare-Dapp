{
  "nbformat": 4,
  "nbformat_minor": 0,
  "metadata": {
    "colab": {
      "provenance": []
    },
    "kernelspec": {
      "name": "python3",
      "display_name": "Python 3"
    },
    "language_info": {
      "name": "python"
    }
  },
  "cells": [
    {
      "cell_type": "code",
      "source": [
        "!pip install web3"
      ],
      "metadata": {
        "colab": {
          "base_uri": "https://localhost:8080/"
        },
        "id": "5KmuzTT7T9RV",
        "outputId": "4dacafda-98fa-4ae1-9b9b-f7c3fe3e67fd"
      },
      "execution_count": 2,
      "outputs": [
        {
          "output_type": "stream",
          "name": "stdout",
          "text": [
            "Requirement already satisfied: web3 in /usr/local/lib/python3.11/dist-packages (7.10.0)\n",
            "Requirement already satisfied: eth-abi>=5.0.1 in /usr/local/lib/python3.11/dist-packages (from web3) (5.2.0)\n",
            "Requirement already satisfied: eth-account>=0.13.1 in /usr/local/lib/python3.11/dist-packages (from web3) (0.13.6)\n",
            "Requirement already satisfied: eth-hash>=0.5.1 in /usr/local/lib/python3.11/dist-packages (from eth-hash[pycryptodome]>=0.5.1->web3) (0.7.1)\n",
            "Requirement already satisfied: eth-typing>=5.0.0 in /usr/local/lib/python3.11/dist-packages (from web3) (5.2.0)\n",
            "Requirement already satisfied: eth-utils>=5.0.0 in /usr/local/lib/python3.11/dist-packages (from web3) (5.2.0)\n",
            "Requirement already satisfied: hexbytes>=1.2.0 in /usr/local/lib/python3.11/dist-packages (from web3) (1.3.0)\n",
            "Requirement already satisfied: aiohttp>=3.7.4.post0 in /usr/local/lib/python3.11/dist-packages (from web3) (3.11.15)\n",
            "Requirement already satisfied: pydantic>=2.4.0 in /usr/local/lib/python3.11/dist-packages (from web3) (2.11.1)\n",
            "Requirement already satisfied: requests>=2.23.0 in /usr/local/lib/python3.11/dist-packages (from web3) (2.32.3)\n",
            "Requirement already satisfied: typing-extensions>=4.0.1 in /usr/local/lib/python3.11/dist-packages (from web3) (4.13.0)\n",
            "Requirement already satisfied: types-requests>=2.0.0 in /usr/local/lib/python3.11/dist-packages (from web3) (2.32.0.20250328)\n",
            "Requirement already satisfied: websockets<16.0.0,>=10.0.0 in /usr/local/lib/python3.11/dist-packages (from web3) (15.0.1)\n",
            "Requirement already satisfied: pyunormalize>=15.0.0 in /usr/local/lib/python3.11/dist-packages (from web3) (16.0.0)\n",
            "Requirement already satisfied: aiohappyeyeballs>=2.3.0 in /usr/local/lib/python3.11/dist-packages (from aiohttp>=3.7.4.post0->web3) (2.6.1)\n",
            "Requirement already satisfied: aiosignal>=1.1.2 in /usr/local/lib/python3.11/dist-packages (from aiohttp>=3.7.4.post0->web3) (1.3.2)\n",
            "Requirement already satisfied: attrs>=17.3.0 in /usr/local/lib/python3.11/dist-packages (from aiohttp>=3.7.4.post0->web3) (25.3.0)\n",
            "Requirement already satisfied: frozenlist>=1.1.1 in /usr/local/lib/python3.11/dist-packages (from aiohttp>=3.7.4.post0->web3) (1.5.0)\n",
            "Requirement already satisfied: multidict<7.0,>=4.5 in /usr/local/lib/python3.11/dist-packages (from aiohttp>=3.7.4.post0->web3) (6.3.1)\n",
            "Requirement already satisfied: propcache>=0.2.0 in /usr/local/lib/python3.11/dist-packages (from aiohttp>=3.7.4.post0->web3) (0.3.1)\n",
            "Requirement already satisfied: yarl<2.0,>=1.17.0 in /usr/local/lib/python3.11/dist-packages (from aiohttp>=3.7.4.post0->web3) (1.18.3)\n",
            "Requirement already satisfied: parsimonious<0.11.0,>=0.10.0 in /usr/local/lib/python3.11/dist-packages (from eth-abi>=5.0.1->web3) (0.10.0)\n",
            "Requirement already satisfied: bitarray>=2.4.0 in /usr/local/lib/python3.11/dist-packages (from eth-account>=0.13.1->web3) (3.3.1)\n",
            "Requirement already satisfied: eth-keyfile<0.9.0,>=0.7.0 in /usr/local/lib/python3.11/dist-packages (from eth-account>=0.13.1->web3) (0.8.1)\n",
            "Requirement already satisfied: eth-keys>=0.4.0 in /usr/local/lib/python3.11/dist-packages (from eth-account>=0.13.1->web3) (0.6.1)\n",
            "Requirement already satisfied: eth-rlp>=2.1.0 in /usr/local/lib/python3.11/dist-packages (from eth-account>=0.13.1->web3) (2.2.0)\n",
            "Requirement already satisfied: rlp>=1.0.0 in /usr/local/lib/python3.11/dist-packages (from eth-account>=0.13.1->web3) (4.1.0)\n",
            "Requirement already satisfied: ckzg>=2.0.0 in /usr/local/lib/python3.11/dist-packages (from eth-account>=0.13.1->web3) (2.1.1)\n",
            "Requirement already satisfied: pycryptodome<4,>=3.6.6 in /usr/local/lib/python3.11/dist-packages (from eth-hash[pycryptodome]>=0.5.1->web3) (3.22.0)\n",
            "Requirement already satisfied: cytoolz>=0.10.1 in /usr/local/lib/python3.11/dist-packages (from eth-utils>=5.0.0->web3) (1.0.1)\n",
            "Requirement already satisfied: annotated-types>=0.6.0 in /usr/local/lib/python3.11/dist-packages (from pydantic>=2.4.0->web3) (0.7.0)\n",
            "Requirement already satisfied: pydantic-core==2.33.0 in /usr/local/lib/python3.11/dist-packages (from pydantic>=2.4.0->web3) (2.33.0)\n",
            "Requirement already satisfied: typing-inspection>=0.4.0 in /usr/local/lib/python3.11/dist-packages (from pydantic>=2.4.0->web3) (0.4.0)\n",
            "Requirement already satisfied: charset-normalizer<4,>=2 in /usr/local/lib/python3.11/dist-packages (from requests>=2.23.0->web3) (3.4.1)\n",
            "Requirement already satisfied: idna<4,>=2.5 in /usr/local/lib/python3.11/dist-packages (from requests>=2.23.0->web3) (3.10)\n",
            "Requirement already satisfied: urllib3<3,>=1.21.1 in /usr/local/lib/python3.11/dist-packages (from requests>=2.23.0->web3) (2.3.0)\n",
            "Requirement already satisfied: certifi>=2017.4.17 in /usr/local/lib/python3.11/dist-packages (from requests>=2.23.0->web3) (2025.1.31)\n",
            "Requirement already satisfied: toolz>=0.8.0 in /usr/local/lib/python3.11/dist-packages (from cytoolz>=0.10.1->eth-utils>=5.0.0->web3) (0.12.1)\n",
            "Requirement already satisfied: regex>=2022.3.15 in /usr/local/lib/python3.11/dist-packages (from parsimonious<0.11.0,>=0.10.0->eth-abi>=5.0.1->web3) (2024.11.6)\n"
          ]
        }
      ]
    },
    {
      "cell_type": "code",
      "execution_count": 15,
      "metadata": {
        "colab": {
          "base_uri": "https://localhost:8080/"
        },
        "id": "lEksaQVFLE4Q",
        "outputId": "6b502918-14e9-4b04-e3d9-8e600c85da87"
      },
      "outputs": [
        {
          "output_type": "stream",
          "name": "stdout",
          "text": [
            "Connected to Ganache? True\n",
            "📨 Current message in contract: Hello, Blockchain\n",
            "✅ Transaction successful! Hash: 25518c0cab9c0f7f60ae02e919f1481be5d010780ca33a19b000952c3d067bf7\n",
            "🆕 Updated message: Hello from Python!\n"
          ]
        }
      ],
      "source": [
        "# STEP 1: Import necessary libraries\n",
        "from web3 import Web3\n",
        "import json\n",
        "\n",
        "# STEP 2: Your contract's ABI (this is the ABI you provided)\n",
        "abi_json = \"\"\"\n",
        "[\n",
        "    {\n",
        "        \"inputs\": [\n",
        "            {\n",
        "                \"internalType\": \"string\",\n",
        "                \"name\": \"_message\",\n",
        "                \"type\": \"string\"\n",
        "            }\n",
        "        ],\n",
        "        \"stateMutability\": \"nonpayable\",\n",
        "        \"type\": \"constructor\"\n",
        "    },\n",
        "    {\n",
        "        \"inputs\": [],\n",
        "        \"name\": \"message\",\n",
        "        \"outputs\": [\n",
        "            {\n",
        "                \"internalType\": \"string\",\n",
        "                \"name\": \"\",\n",
        "                \"type\": \"string\"\n",
        "            }\n",
        "        ],\n",
        "        \"stateMutability\": \"view\",\n",
        "        \"type\": \"function\"\n",
        "    },\n",
        "    {\n",
        "        \"inputs\": [],\n",
        "        \"name\": \"owner\",\n",
        "        \"outputs\": [\n",
        "            {\n",
        "                \"internalType\": \"address\",\n",
        "                \"name\": \"\",\n",
        "                \"type\": \"address\"\n",
        "            }\n",
        "        ],\n",
        "        \"stateMutability\": \"view\",\n",
        "        \"type\": \"function\"\n",
        "    },\n",
        "    {\n",
        "        \"inputs\": [],\n",
        "        \"name\": \"resetMessage\",\n",
        "        \"outputs\": [],\n",
        "        \"stateMutability\": \"nonpayable\",\n",
        "        \"type\": \"function\"\n",
        "    },\n",
        "    {\n",
        "        \"inputs\": [\n",
        "            {\n",
        "                \"internalType\": \"string\",\n",
        "                \"name\": \"_newMessage\",\n",
        "                \"type\": \"string\"\n",
        "            }\n",
        "        ],\n",
        "        \"name\": \"setMessage\",\n",
        "        \"outputs\": [],\n",
        "        \"stateMutability\": \"nonpayable\",\n",
        "        \"type\": \"function\"\n",
        "    }\n",
        "]\n",
        "\"\"\"\n",
        "\n",
        "# STEP 3: Convert ABI to Python dict\n",
        "abi = json.loads(abi_json)\n",
        "\n",
        "# STEP 4: Use ngrok URL to connect to Ganache\n",
        "# Replace with your actual ngrok forwarding URL\n",
        "ganache_url = \"https://4dca-86-180-178-111.ngrok-free.app\"  # <- Correct ngrok URL\n",
        "web3 = Web3(Web3.HTTPProvider(ganache_url))\n",
        "\n",
        "# STEP 5: Verify connection to Ganache\n",
        "print(\"Connected to Ganache?\", web3.is_connected())\n",
        "\n",
        "if not web3.is_connected():\n",
        "    raise Exception(\"⚠️ Could not connect to Ganache. Please make sure it's running.\")\n",
        "\n",
        "# STEP 6: Define your deployed contract address (replace this with your actual one from Ganache)\n",
        "contract_address = web3.to_checksum_address(\"0x298A80B050d01101b5F7D8e7aF529eb510529b22\")\n",
        "\n",
        "# STEP 7: Create contract instance\n",
        "contract = web3.eth.contract(address=contract_address, abi=abi)\n",
        "\n",
        "# STEP 8: Get available accounts (using Ganache accounts)\n",
        "accounts = web3.eth.accounts\n",
        "user_address = accounts[0]  # Default account to use for transactions\n",
        "\n",
        "# STEP 9: Interact with the contract (Call a read-only function)\n",
        "try:\n",
        "    current_message = contract.functions.message().call()\n",
        "    print(\"📨 Current message in contract:\", current_message)\n",
        "except Exception as e:\n",
        "    print(\"Error reading from contract:\", e)\n",
        "\n",
        "# STEP 10: Write to contract (set a new message)\n",
        "try:\n",
        "    tx_hash = contract.functions.setMessage(\"Hello from Python!\").transact({\n",
        "        'from': user_address\n",
        "    })\n",
        "    receipt = web3.eth.wait_for_transaction_receipt(tx_hash)\n",
        "    print(\"✅ Transaction successful! Hash:\", receipt.transactionHash.hex())\n",
        "except Exception as e:\n",
        "    print(\"Error writing to contract:\", e)\n",
        "\n",
        "# STEP 11: Read the updated message after writing to the contract\n",
        "try:\n",
        "    updated_message = contract.functions.message().call()\n",
        "    print(\"🆕 Updated message:\", updated_message)\n",
        "except Exception as e:\n",
        "    print(\"Error reading updated message:\", e)\n"
      ]
    },
    {
      "cell_type": "code",
      "source": [],
      "metadata": {
        "id": "FAN7rS_Fdeuv"
      },
      "execution_count": null,
      "outputs": []
    }
  ]
}